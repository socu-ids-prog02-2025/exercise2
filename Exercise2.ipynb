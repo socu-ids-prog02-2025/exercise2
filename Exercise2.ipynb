{
  "nbformat": 4,
  "nbformat_minor": 0,
  "metadata": {
    "colab": {
      "provenance": []
    },
    "kernelspec": {
      "name": "python3",
      "display_name": "Python 3"
    },
    "language_info": {
      "name": "python"
    }
  },
  "cells": [
    {
      "cell_type": "code",
      "execution_count": null,
      "metadata": {
        "id": "Zm4OXPgcX2zd"
      },
      "outputs": [],
      "source": []
    },
    {
      "cell_type": "markdown",
      "source": [
        "# 課題1\n",
        "scores.csvを読み込み、各科目の平均点を計算して表示するプログラムを書きなさい。\n",
        "scores.csvのURL:\n",
        "https://github.com/socu-ids-prog02-2025/exercise2/blob/main/scores.csv"
      ],
      "metadata": {
        "id": "7_azFH9dX_OC"
      }
    },
    {
      "cell_type": "code",
      "source": [],
      "metadata": {
        "id": "Sh2-pxA1io3r"
      },
      "execution_count": null,
      "outputs": []
    },
    {
      "cell_type": "markdown",
      "source": [
        "# 課題2\n",
        "scores.csv を読み込み、各学生の平均点を計算して新しいCSVファイル averages.csv に以下の形式で保存するプログラムを書きなさい。但し平均点は小数点以下1桁まで表示する事。\n",
        "\n",
        "Name,Average\n",
        "\n",
        "Alice,80.0\n",
        "\n",
        "Bob,65.4\n",
        "\n",
        "..."
      ],
      "metadata": {
        "id": "nT-7CHfriu9f"
      }
    },
    {
      "cell_type": "code",
      "source": [],
      "metadata": {
        "id": "MQUfjYR9nT1e"
      },
      "execution_count": null,
      "outputs": []
    },
    {
      "cell_type": "markdown",
      "source": [
        "# 課題3\n",
        "scores.csv を読み込み、平均点が80以上の学生のみを抽出して high_scores.csv に保存するプログラムを書きなさい。"
      ],
      "metadata": {
        "id": "_KVG5fCInZlp"
      }
    },
    {
      "cell_type": "code",
      "source": [],
      "metadata": {
        "id": "YLGMxZGen18B"
      },
      "execution_count": null,
      "outputs": []
    }
  ]
}